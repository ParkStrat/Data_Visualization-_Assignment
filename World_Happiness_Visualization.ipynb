{
  "nbformat": 4,
  "nbformat_minor": 0,
  "metadata": {
    "colab": {
      "name": "WorldHappiness_Visualization.ipynb",
      "provenance": [],
      "collapsed_sections": [],
      "mount_file_id": "13IQM4_eTsVQa3nxlPUrvjClEf-KVPgZw",
      "authorship_tag": "ABX9TyNQ/M0ZaoHb/uWpXCnI2NCf",
      "include_colab_link": true
    },
    "kernelspec": {
      "name": "python3",
      "display_name": "Python 3"
    },
    "language_info": {
      "name": "python"
    }
  },
  "cells": [
    {
      "cell_type": "markdown",
      "metadata": {
        "id": "view-in-github",
        "colab_type": "text"
      },
      "source": [
        "<a href=\"https://colab.research.google.com/github/ParkStrat/Data_Visualization-_Assignment/blob/main/World_Happiness_Visualization.ipynb\" target=\"_parent\"><img src=\"https://colab.research.google.com/assets/colab-badge.svg\" alt=\"Open In Colab\"/></a>"
      ]
    },
    {
      "cell_type": "code",
      "execution_count": 1,
      "metadata": {
        "id": "tnWFqm4n5UmE"
      },
      "outputs": [],
      "source": [
        "import pandas as pd\n",
        "import numpy as np\n",
        "import matplotlib.pyplot as plt\n",
        "import seaborn as sns"
      ]
    },
    {
      "cell_type": "code",
      "source": [
        "df = pd.read_excel('/content/drive/MyDrive/Coding Dojo - Data Science/04. Week 4: Exploratory Viz/WHR20_DataForFigure2.1.xls')\n",
        "df.info()"
      ],
      "metadata": {
        "colab": {
          "base_uri": "https://localhost:8080/"
        },
        "id": "rbiT8mnM7W0X",
        "outputId": "f8b2fb87-ff11-46c3-e6e8-c3aa75071bf9"
      },
      "execution_count": 2,
      "outputs": [
        {
          "output_type": "stream",
          "name": "stdout",
          "text": [
            "<class 'pandas.core.frame.DataFrame'>\n",
            "RangeIndex: 153 entries, 0 to 152\n",
            "Data columns (total 20 columns):\n",
            " #   Column                                      Non-Null Count  Dtype  \n",
            "---  ------                                      --------------  -----  \n",
            " 0   Country name                                153 non-null    object \n",
            " 1   Regional indicator                          153 non-null    object \n",
            " 2   Ladder score                                153 non-null    float64\n",
            " 3   Standard error of ladder score              153 non-null    float64\n",
            " 4   upperwhisker                                153 non-null    float64\n",
            " 5   lowerwhisker                                153 non-null    float64\n",
            " 6   Logged GDP per capita                       153 non-null    float64\n",
            " 7   Social support                              153 non-null    float64\n",
            " 8   Healthy life expectancy                     153 non-null    float64\n",
            " 9   Freedom to make life choices                153 non-null    float64\n",
            " 10  Generosity                                  153 non-null    float64\n",
            " 11  Perceptions of corruption                   153 non-null    float64\n",
            " 12  Ladder score in Dystopia                    153 non-null    float64\n",
            " 13  Explained by: Log GDP per capita            153 non-null    float64\n",
            " 14  Explained by: Social support                153 non-null    float64\n",
            " 15  Explained by: Healthy life expectancy       153 non-null    float64\n",
            " 16  Explained by: Freedom to make life choices  153 non-null    float64\n",
            " 17  Explained by: Generosity                    153 non-null    float64\n",
            " 18  Explained by: Perceptions of corruption     153 non-null    float64\n",
            " 19  Dystopia + residual                         153 non-null    float64\n",
            "dtypes: float64(18), object(2)\n",
            "memory usage: 24.0+ KB\n"
          ]
        }
      ]
    },
    {
      "cell_type": "code",
      "source": [
        "df.head()"
      ],
      "metadata": {
        "colab": {
          "base_uri": "https://localhost:8080/",
          "height": 388
        },
        "id": "lDOeMjG38wbu",
        "outputId": "a169ad36-da8b-4183-d184-cba84adc514c"
      },
      "execution_count": 3,
      "outputs": [
        {
          "output_type": "execute_result",
          "data": {
            "text/html": [
              "\n",
              "  <div id=\"df-5c01595f-fa0d-44cd-b5e3-6e0837ff60ca\">\n",
              "    <div class=\"colab-df-container\">\n",
              "      <div>\n",
              "<style scoped>\n",
              "    .dataframe tbody tr th:only-of-type {\n",
              "        vertical-align: middle;\n",
              "    }\n",
              "\n",
              "    .dataframe tbody tr th {\n",
              "        vertical-align: top;\n",
              "    }\n",
              "\n",
              "    .dataframe thead th {\n",
              "        text-align: right;\n",
              "    }\n",
              "</style>\n",
              "<table border=\"1\" class=\"dataframe\">\n",
              "  <thead>\n",
              "    <tr style=\"text-align: right;\">\n",
              "      <th></th>\n",
              "      <th>Country name</th>\n",
              "      <th>Regional indicator</th>\n",
              "      <th>Ladder score</th>\n",
              "      <th>Standard error of ladder score</th>\n",
              "      <th>upperwhisker</th>\n",
              "      <th>lowerwhisker</th>\n",
              "      <th>Logged GDP per capita</th>\n",
              "      <th>Social support</th>\n",
              "      <th>Healthy life expectancy</th>\n",
              "      <th>Freedom to make life choices</th>\n",
              "      <th>Generosity</th>\n",
              "      <th>Perceptions of corruption</th>\n",
              "      <th>Ladder score in Dystopia</th>\n",
              "      <th>Explained by: Log GDP per capita</th>\n",
              "      <th>Explained by: Social support</th>\n",
              "      <th>Explained by: Healthy life expectancy</th>\n",
              "      <th>Explained by: Freedom to make life choices</th>\n",
              "      <th>Explained by: Generosity</th>\n",
              "      <th>Explained by: Perceptions of corruption</th>\n",
              "      <th>Dystopia + residual</th>\n",
              "    </tr>\n",
              "  </thead>\n",
              "  <tbody>\n",
              "    <tr>\n",
              "      <th>0</th>\n",
              "      <td>Finland</td>\n",
              "      <td>Western Europe</td>\n",
              "      <td>7.8087</td>\n",
              "      <td>0.031156</td>\n",
              "      <td>7.869766</td>\n",
              "      <td>7.747634</td>\n",
              "      <td>10.639267</td>\n",
              "      <td>0.954330</td>\n",
              "      <td>71.900826</td>\n",
              "      <td>0.949172</td>\n",
              "      <td>-0.059482</td>\n",
              "      <td>0.195445</td>\n",
              "      <td>1.972317</td>\n",
              "      <td>1.285190</td>\n",
              "      <td>1.499526</td>\n",
              "      <td>0.961271</td>\n",
              "      <td>0.662317</td>\n",
              "      <td>0.159670</td>\n",
              "      <td>0.477857</td>\n",
              "      <td>2.762835</td>\n",
              "    </tr>\n",
              "    <tr>\n",
              "      <th>1</th>\n",
              "      <td>Denmark</td>\n",
              "      <td>Western Europe</td>\n",
              "      <td>7.6456</td>\n",
              "      <td>0.033492</td>\n",
              "      <td>7.711245</td>\n",
              "      <td>7.579955</td>\n",
              "      <td>10.774001</td>\n",
              "      <td>0.955991</td>\n",
              "      <td>72.402504</td>\n",
              "      <td>0.951444</td>\n",
              "      <td>0.066202</td>\n",
              "      <td>0.168489</td>\n",
              "      <td>1.972317</td>\n",
              "      <td>1.326949</td>\n",
              "      <td>1.503449</td>\n",
              "      <td>0.979333</td>\n",
              "      <td>0.665040</td>\n",
              "      <td>0.242793</td>\n",
              "      <td>0.495260</td>\n",
              "      <td>2.432741</td>\n",
              "    </tr>\n",
              "    <tr>\n",
              "      <th>2</th>\n",
              "      <td>Switzerland</td>\n",
              "      <td>Western Europe</td>\n",
              "      <td>7.5599</td>\n",
              "      <td>0.035014</td>\n",
              "      <td>7.628528</td>\n",
              "      <td>7.491272</td>\n",
              "      <td>10.979933</td>\n",
              "      <td>0.942847</td>\n",
              "      <td>74.102448</td>\n",
              "      <td>0.921337</td>\n",
              "      <td>0.105911</td>\n",
              "      <td>0.303728</td>\n",
              "      <td>1.972317</td>\n",
              "      <td>1.390774</td>\n",
              "      <td>1.472403</td>\n",
              "      <td>1.040533</td>\n",
              "      <td>0.628954</td>\n",
              "      <td>0.269056</td>\n",
              "      <td>0.407946</td>\n",
              "      <td>2.350267</td>\n",
              "    </tr>\n",
              "    <tr>\n",
              "      <th>3</th>\n",
              "      <td>Iceland</td>\n",
              "      <td>Western Europe</td>\n",
              "      <td>7.5045</td>\n",
              "      <td>0.059616</td>\n",
              "      <td>7.621347</td>\n",
              "      <td>7.387653</td>\n",
              "      <td>10.772559</td>\n",
              "      <td>0.974670</td>\n",
              "      <td>73.000000</td>\n",
              "      <td>0.948892</td>\n",
              "      <td>0.246944</td>\n",
              "      <td>0.711710</td>\n",
              "      <td>1.972317</td>\n",
              "      <td>1.326502</td>\n",
              "      <td>1.547567</td>\n",
              "      <td>1.000843</td>\n",
              "      <td>0.661981</td>\n",
              "      <td>0.362330</td>\n",
              "      <td>0.144541</td>\n",
              "      <td>2.460688</td>\n",
              "    </tr>\n",
              "    <tr>\n",
              "      <th>4</th>\n",
              "      <td>Norway</td>\n",
              "      <td>Western Europe</td>\n",
              "      <td>7.4880</td>\n",
              "      <td>0.034837</td>\n",
              "      <td>7.556281</td>\n",
              "      <td>7.419719</td>\n",
              "      <td>11.087804</td>\n",
              "      <td>0.952487</td>\n",
              "      <td>73.200783</td>\n",
              "      <td>0.955750</td>\n",
              "      <td>0.134533</td>\n",
              "      <td>0.263218</td>\n",
              "      <td>1.972317</td>\n",
              "      <td>1.424207</td>\n",
              "      <td>1.495173</td>\n",
              "      <td>1.008072</td>\n",
              "      <td>0.670201</td>\n",
              "      <td>0.287985</td>\n",
              "      <td>0.434101</td>\n",
              "      <td>2.168266</td>\n",
              "    </tr>\n",
              "  </tbody>\n",
              "</table>\n",
              "</div>\n",
              "      <button class=\"colab-df-convert\" onclick=\"convertToInteractive('df-5c01595f-fa0d-44cd-b5e3-6e0837ff60ca')\"\n",
              "              title=\"Convert this dataframe to an interactive table.\"\n",
              "              style=\"display:none;\">\n",
              "        \n",
              "  <svg xmlns=\"http://www.w3.org/2000/svg\" height=\"24px\"viewBox=\"0 0 24 24\"\n",
              "       width=\"24px\">\n",
              "    <path d=\"M0 0h24v24H0V0z\" fill=\"none\"/>\n",
              "    <path d=\"M18.56 5.44l.94 2.06.94-2.06 2.06-.94-2.06-.94-.94-2.06-.94 2.06-2.06.94zm-11 1L8.5 8.5l.94-2.06 2.06-.94-2.06-.94L8.5 2.5l-.94 2.06-2.06.94zm10 10l.94 2.06.94-2.06 2.06-.94-2.06-.94-.94-2.06-.94 2.06-2.06.94z\"/><path d=\"M17.41 7.96l-1.37-1.37c-.4-.4-.92-.59-1.43-.59-.52 0-1.04.2-1.43.59L10.3 9.45l-7.72 7.72c-.78.78-.78 2.05 0 2.83L4 21.41c.39.39.9.59 1.41.59.51 0 1.02-.2 1.41-.59l7.78-7.78 2.81-2.81c.8-.78.8-2.07 0-2.86zM5.41 20L4 18.59l7.72-7.72 1.47 1.35L5.41 20z\"/>\n",
              "  </svg>\n",
              "      </button>\n",
              "      \n",
              "  <style>\n",
              "    .colab-df-container {\n",
              "      display:flex;\n",
              "      flex-wrap:wrap;\n",
              "      gap: 12px;\n",
              "    }\n",
              "\n",
              "    .colab-df-convert {\n",
              "      background-color: #E8F0FE;\n",
              "      border: none;\n",
              "      border-radius: 50%;\n",
              "      cursor: pointer;\n",
              "      display: none;\n",
              "      fill: #1967D2;\n",
              "      height: 32px;\n",
              "      padding: 0 0 0 0;\n",
              "      width: 32px;\n",
              "    }\n",
              "\n",
              "    .colab-df-convert:hover {\n",
              "      background-color: #E2EBFA;\n",
              "      box-shadow: 0px 1px 2px rgba(60, 64, 67, 0.3), 0px 1px 3px 1px rgba(60, 64, 67, 0.15);\n",
              "      fill: #174EA6;\n",
              "    }\n",
              "\n",
              "    [theme=dark] .colab-df-convert {\n",
              "      background-color: #3B4455;\n",
              "      fill: #D2E3FC;\n",
              "    }\n",
              "\n",
              "    [theme=dark] .colab-df-convert:hover {\n",
              "      background-color: #434B5C;\n",
              "      box-shadow: 0px 1px 3px 1px rgba(0, 0, 0, 0.15);\n",
              "      filter: drop-shadow(0px 1px 2px rgba(0, 0, 0, 0.3));\n",
              "      fill: #FFFFFF;\n",
              "    }\n",
              "  </style>\n",
              "\n",
              "      <script>\n",
              "        const buttonEl =\n",
              "          document.querySelector('#df-5c01595f-fa0d-44cd-b5e3-6e0837ff60ca button.colab-df-convert');\n",
              "        buttonEl.style.display =\n",
              "          google.colab.kernel.accessAllowed ? 'block' : 'none';\n",
              "\n",
              "        async function convertToInteractive(key) {\n",
              "          const element = document.querySelector('#df-5c01595f-fa0d-44cd-b5e3-6e0837ff60ca');\n",
              "          const dataTable =\n",
              "            await google.colab.kernel.invokeFunction('convertToInteractive',\n",
              "                                                     [key], {});\n",
              "          if (!dataTable) return;\n",
              "\n",
              "          const docLinkHtml = 'Like what you see? Visit the ' +\n",
              "            '<a target=\"_blank\" href=https://colab.research.google.com/notebooks/data_table.ipynb>data table notebook</a>'\n",
              "            + ' to learn more about interactive tables.';\n",
              "          element.innerHTML = '';\n",
              "          dataTable['output_type'] = 'display_data';\n",
              "          await google.colab.output.renderOutput(dataTable, element);\n",
              "          const docLink = document.createElement('div');\n",
              "          docLink.innerHTML = docLinkHtml;\n",
              "          element.appendChild(docLink);\n",
              "        }\n",
              "      </script>\n",
              "    </div>\n",
              "  </div>\n",
              "  "
            ],
            "text/plain": [
              "  Country name  ... Dystopia + residual\n",
              "0      Finland  ...            2.762835\n",
              "1      Denmark  ...            2.432741\n",
              "2  Switzerland  ...            2.350267\n",
              "3      Iceland  ...            2.460688\n",
              "4       Norway  ...            2.168266\n",
              "\n",
              "[5 rows x 20 columns]"
            ]
          },
          "metadata": {},
          "execution_count": 3
        }
      ]
    },
    {
      "cell_type": "code",
      "source": [
        "df['Regional indicator'].value_counts()"
      ],
      "metadata": {
        "colab": {
          "base_uri": "https://localhost:8080/"
        },
        "id": "rrIcXVMf82GI",
        "outputId": "6d0df288-c888-4d76-a2d7-756301b14e3c"
      },
      "execution_count": 4,
      "outputs": [
        {
          "output_type": "execute_result",
          "data": {
            "text/plain": [
              "Sub-Saharan Africa                    39\n",
              "Western Europe                        21\n",
              "Latin America and Caribbean           21\n",
              "Central and Eastern Europe            17\n",
              "Middle East and North Africa          17\n",
              "Commonwealth of Independent States    12\n",
              "Southeast Asia                         9\n",
              "South Asia                             7\n",
              "East Asia                              6\n",
              "North America and ANZ                  4\n",
              "Name: Regional indicator, dtype: int64"
            ]
          },
          "metadata": {},
          "execution_count": 4
        }
      ]
    },
    {
      "cell_type": "code",
      "source": [
        "df['Ladder score'].describe()"
      ],
      "metadata": {
        "colab": {
          "base_uri": "https://localhost:8080/"
        },
        "id": "2WR9AiAf9Ia9",
        "outputId": "164a155d-7cfd-48d2-faac-cc36722009f4"
      },
      "execution_count": 5,
      "outputs": [
        {
          "output_type": "execute_result",
          "data": {
            "text/plain": [
              "count    153.00000\n",
              "mean       5.47324\n",
              "std        1.11227\n",
              "min        2.56690\n",
              "25%        4.72410\n",
              "50%        5.51500\n",
              "75%        6.22850\n",
              "max        7.80870\n",
              "Name: Ladder score, dtype: float64"
            ]
          },
          "metadata": {},
          "execution_count": 5
        }
      ]
    },
    {
      "cell_type": "code",
      "source": [
        "regionalLadder = df.groupby(['Regional indicator'])['Ladder score'].mean()\n",
        "regionalLadder.sort_values(ascending = False, inplace = True)"
      ],
      "metadata": {
        "id": "h_fpwm-P9aDz"
      },
      "execution_count": 23,
      "outputs": []
    },
    {
      "cell_type": "code",
      "source": [
        "regions = list(regionalLadder.index)\n",
        "ladders = list(regionalLadder.values)"
      ],
      "metadata": {
        "id": "yn7JiyLtnxGJ"
      },
      "execution_count": 24,
      "outputs": []
    },
    {
      "cell_type": "code",
      "source": [
        "from seaborn.palettes import color_palette\n",
        "sns.set_style('darkgrid')\n",
        "sns.barplot(x = ladders, y = regions, palette = 'YlGnBu', edgecolor = 'Black', linewidth = 1)\n",
        "plt.title('Average Happiness by Geographic Region')\n",
        "plt.xlabel('Relative Happiness (Ladder Score)')\n",
        "plt.ylabel('')\n",
        "plt.savefig('Average Happiness by Region.png', dpi = 300, bbox_inches = 'tight');"
      ],
      "metadata": {
        "colab": {
          "base_uri": "https://localhost:8080/",
          "height": 294
        },
        "id": "QLPSBXit9oV9",
        "outputId": "ba81d1f0-2a8c-4f8c-886a-14ad5752155b"
      },
      "execution_count": 62,
      "outputs": [
        {
          "output_type": "display_data",
          "data": {
            "image/png": "[encoded data removed]",
            "text/plain": [
              "<Figure size 432x288 with 1 Axes>"
            ]
          },
          "metadata": {}
        }
      ]
    },
    {
      "cell_type": "markdown",
      "source": [
        "This chart displays the average level of happieness from each region."
      ],
      "metadata": {
        "id": "efLqlUFYr007"
      }
    },
    {
      "cell_type": "code",
      "source": [
        ""
      ],
      "metadata": {
        "id": "G3nfdf99HQQm"
      },
      "execution_count": 9,
      "outputs": []
    }
  ]
}